{
 "cells": [
  {
   "cell_type": "markdown",
   "metadata": {},
   "source": [
    "<h1 align='center'> Tensorflow Tutorial</h1>\n",
    "<h4> 1. Checking the version of installed tensorflow </h4>\n"
   ]
  },
  {
   "cell_type": "code",
   "execution_count": 2,
   "metadata": {},
   "outputs": [
    {
     "name": "stderr",
     "output_type": "stream",
     "text": [
      "2024-02-17 15:35:51.989982: I tensorflow/core/util/port.cc:113] oneDNN custom operations are on. You may see slightly different numerical results due to floating-point round-off errors from different computation orders. To turn them off, set the environment variable `TF_ENABLE_ONEDNN_OPTS=0`.\n",
      "2024-02-17 15:35:52.030969: I external/local_tsl/tsl/cuda/cudart_stub.cc:31] Could not find cuda drivers on your machine, GPU will not be used.\n",
      "2024-02-17 15:35:52.228258: E external/local_xla/xla/stream_executor/cuda/cuda_dnn.cc:9261] Unable to register cuDNN factory: Attempting to register factory for plugin cuDNN when one has already been registered\n",
      "2024-02-17 15:35:52.228365: E external/local_xla/xla/stream_executor/cuda/cuda_fft.cc:607] Unable to register cuFFT factory: Attempting to register factory for plugin cuFFT when one has already been registered\n",
      "2024-02-17 15:35:52.264544: E external/local_xla/xla/stream_executor/cuda/cuda_blas.cc:1515] Unable to register cuBLAS factory: Attempting to register factory for plugin cuBLAS when one has already been registered\n",
      "2024-02-17 15:35:52.347528: I external/local_tsl/tsl/cuda/cudart_stub.cc:31] Could not find cuda drivers on your machine, GPU will not be used.\n",
      "2024-02-17 15:35:52.348938: I tensorflow/core/platform/cpu_feature_guard.cc:182] This TensorFlow binary is optimized to use available CPU instructions in performance-critical operations.\n",
      "To enable the following instructions: AVX2 AVX_VNNI FMA, in other operations, rebuild TensorFlow with the appropriate compiler flags.\n",
      "2024-02-17 15:35:54.959367: W tensorflow/compiler/tf2tensorrt/utils/py_utils.cc:38] TF-TRT Warning: Could not find TensorRT\n"
     ]
    },
    {
     "name": "stdout",
     "output_type": "stream",
     "text": [
      "Current Tensorflow Version: 2.15.0\n"
     ]
    }
   ],
   "source": [
    "import tensorflow as tf\n",
    "from PIL import Image\n",
    "\n",
    "print(f'Current Tensorflow Version: {tf.__version__}')"
   ]
  },
  {
   "cell_type": "markdown",
   "metadata": {},
   "source": [
    "<h4>2. Loading Tensorflow Dataset </h4>"
   ]
  },
  {
   "cell_type": "code",
   "execution_count": 11,
   "metadata": {},
   "outputs": [
    {
     "data": {
      "image/jpeg": "[encoded data removed]",
      "image/png": "[encoded data removed]",
      "text/plain": [
       "<PIL.Image.Image image mode=L size=28x28>"
      ]
     },
     "metadata": {},
     "output_type": "display_data"
    },
    {
     "data": {
      "text/plain": [
       "5"
      ]
     },
     "metadata": {},
     "output_type": "display_data"
    }
   ],
   "source": [
    "mnist_data=tf.keras.datasets.mnist\n",
    "(x_train,y_train), (x_test,y_test) = mnist_data.load_data()\n",
    "display(Image.fromarray(x_train[0]))\n",
    "display(y_train[0])\n"
   ]
  },
  {
   "cell_type": "markdown",
   "metadata": {},
   "source": [
    "<h3> 3.1 Implementation Directly on single model structure </h3>"
   ]
  },
  {
   "cell_type": "code",
   "execution_count": 3,
   "metadata": {},
   "outputs": [
    {
     "name": "stderr",
     "output_type": "stream",
     "text": [
      "2024-02-15 17:58:03.199227: I external/local_xla/xla/stream_executor/cuda/cuda_executor.cc:901] successful NUMA node read from SysFS had negative value (-1), but there must be at least one NUMA node, so returning NUMA node zero. See more at https://github.com/torvalds/linux/blob/v6.0/Documentation/ABI/testing/sysfs-bus-pci#L344-L355\n",
      "2024-02-15 17:58:03.203035: W tensorflow/core/common_runtime/gpu/gpu_device.cc:2256] Cannot dlopen some GPU libraries. Please make sure the missing libraries mentioned above are installed properly if you would like to use GPU. Follow the guide at https://www.tensorflow.org/install/gpu for how to download and setup the required libraries for your platform.\n",
      "Skipping registering GPU devices...\n"
     ]
    }
   ],
   "source": [
    "#x_train,x_test=x_train/255.0, x_test/255.0\n",
    "\n",
    "model=tf.keras.models.Sequential([\n",
    "    tf.keras.layers.Flatten(input_shape=(28,28)),\n",
    "    tf.keras.layers.Dense(128,activation='relu'),\n",
    "    tf.keras.layers.Dropout(0.2),\n",
    "    tf.keras.layers.Dense(10,activation='softmax')\n",
    "])\n",
    "model.compile(\n",
    "    optimizer='adam',\n",
    "    loss=tf.losses.SparseCategoricalCrossentropy(),\n",
    "    metrics=['accuracy'])\n",
    "\n"
   ]
  },
  {
   "cell_type": "code",
   "execution_count": 4,
   "metadata": {},
   "outputs": [
    {
     "name": "stdout",
     "output_type": "stream",
     "text": [
      "Epoch 1/20\n",
      "1875/1875 [==============================] - 2s 986us/step - loss: 2.5750 - accuracy: 0.7495\n",
      "Epoch 2/20\n",
      "1875/1875 [==============================] - 2s 970us/step - loss: 0.5593 - accuracy: 0.8505\n",
      "Epoch 3/20\n",
      "1875/1875 [==============================] - 2s 954us/step - loss: 0.4624 - accuracy: 0.8732\n",
      "Epoch 4/20\n",
      "1875/1875 [==============================] - 2s 947us/step - loss: 0.4150 - accuracy: 0.8903\n",
      "Epoch 5/20\n",
      "1875/1875 [==============================] - 2s 1ms/step - loss: 0.3803 - accuracy: 0.9028\n",
      "Epoch 6/20\n",
      "1875/1875 [==============================] - 2s 1ms/step - loss: 0.3621 - accuracy: 0.9051\n",
      "Epoch 7/20\n",
      "1875/1875 [==============================] - 2s 972us/step - loss: 0.3482 - accuracy: 0.9088\n",
      "Epoch 8/20\n",
      "1875/1875 [==============================] - 2s 934us/step - loss: 0.3336 - accuracy: 0.9124\n",
      "Epoch 9/20\n",
      "1875/1875 [==============================] - 2s 961us/step - loss: 0.3319 - accuracy: 0.9151\n",
      "Epoch 10/20\n",
      "1875/1875 [==============================] - 2s 934us/step - loss: 0.3210 - accuracy: 0.9169\n",
      "Epoch 11/20\n",
      "1875/1875 [==============================] - 2s 1ms/step - loss: 0.3140 - accuracy: 0.9189\n",
      "Epoch 12/20\n",
      "1875/1875 [==============================] - 2s 951us/step - loss: 0.3160 - accuracy: 0.9211\n",
      "Epoch 13/20\n",
      "1875/1875 [==============================] - 2s 940us/step - loss: 0.3031 - accuracy: 0.9221\n",
      "Epoch 14/20\n",
      "1875/1875 [==============================] - 2s 972us/step - loss: 0.3111 - accuracy: 0.9231\n",
      "Epoch 15/20\n",
      "1875/1875 [==============================] - 2s 954us/step - loss: 0.3094 - accuracy: 0.9230\n",
      "Epoch 16/20\n",
      "1875/1875 [==============================] - 2s 1ms/step - loss: 0.2950 - accuracy: 0.9261\n",
      "Epoch 17/20\n",
      "1875/1875 [==============================] - 2s 1ms/step - loss: 0.2965 - accuracy: 0.9259\n",
      "Epoch 18/20\n",
      "1875/1875 [==============================] - 2s 1ms/step - loss: 0.2947 - accuracy: 0.9256\n",
      "Epoch 19/20\n",
      "1875/1875 [==============================] - 2s 1ms/step - loss: 0.3023 - accuracy: 0.9270\n",
      "Epoch 20/20\n",
      "1875/1875 [==============================] - 2s 1ms/step - loss: 0.2792 - accuracy: 0.9290\n"
     ]
    },
    {
     "data": {
      "text/plain": [
       "<keras.src.callbacks.History at 0x7fe6c0f739d0>"
      ]
     },
     "execution_count": 4,
     "metadata": {},
     "output_type": "execute_result"
    }
   ],
   "source": [
    "model.fit(x_train,y_train,epochs=20)"
   ]
  },
  {
   "cell_type": "code",
   "execution_count": 5,
   "metadata": {},
   "outputs": [
    {
     "name": "stdout",
     "output_type": "stream",
     "text": [
      "313/313 [==============================] - 0s 665us/step - loss: 0.3409 - accuracy: 0.9476\n"
     ]
    },
    {
     "data": {
      "text/plain": [
       "[0.34094730019569397, 0.9476000070571899]"
      ]
     },
     "execution_count": 5,
     "metadata": {},
     "output_type": "execute_result"
    }
   ],
   "source": [
    "model.evaluate(x_test,y_test)"
   ]
  },
  {
   "cell_type": "markdown",
   "metadata": {},
   "source": [
    "<h3>3.2. Implementation alternative approach </h3>"
   ]
  },
  {
   "cell_type": "code",
   "execution_count": 22,
   "metadata": {},
   "outputs": [
    {
     "name": "stdout",
     "output_type": "stream",
     "text": [
      "Model: \"model_9\"\n",
      "_________________________________________________________________\n",
      " Layer (type)                Output Shape              Param #   \n",
      "=================================================================\n",
      " input_10 (InputLayer)       [(None, 28, 28)]          0         \n",
      "                                                                 \n",
      " flatten_13 (Flatten)        (None, 784)               0         \n",
      "                                                                 \n",
      " dense_29 (Dense)            (None, 128)               100480    \n",
      "                                                                 \n",
      " dropout_18 (Dropout)        (None, 128)               0         \n",
      "                                                                 \n",
      " dense_30 (Dense)            (None, 256)               33024     \n",
      "                                                                 \n",
      " dropout_19 (Dropout)        (None, 256)               0         \n",
      "                                                                 \n",
      " dense_31 (Dense)            (None, 10)                2570      \n",
      "                                                                 \n",
      "=================================================================\n",
      "Total params: 136074 (531.54 KB)\n",
      "Trainable params: 136074 (531.54 KB)\n",
      "Non-trainable params: 0 (0.00 Byte)\n",
      "_________________________________________________________________\n",
      "Epoch 1/20\n",
      "1875/1875 [==============================] - 2s 1ms/step - loss: 1.8604 - accuracy: 0.7197\n",
      "Epoch 2/20\n",
      "1875/1875 [==============================] - 2s 1ms/step - loss: 0.7233 - accuracy: 0.8203\n",
      "Epoch 3/20\n",
      "1875/1875 [==============================] - 2s 1ms/step - loss: 0.5042 - accuracy: 0.8704\n",
      "Epoch 4/20\n",
      "1875/1875 [==============================] - 2s 1ms/step - loss: 0.4048 - accuracy: 0.8967\n",
      "Epoch 5/20\n",
      "1875/1875 [==============================] - 2s 1ms/step - loss: 0.3480 - accuracy: 0.9096\n",
      "Epoch 6/20\n",
      "1875/1875 [==============================] - 2s 1ms/step - loss: 0.3318 - accuracy: 0.9166\n",
      "Epoch 7/20\n",
      "1875/1875 [==============================] - 2s 1ms/step - loss: 0.3135 - accuracy: 0.9205\n",
      "Epoch 8/20\n",
      "1875/1875 [==============================] - 2s 1ms/step - loss: 0.3024 - accuracy: 0.9235\n",
      "Epoch 9/20\n",
      "1875/1875 [==============================] - 2s 1ms/step - loss: 0.2860 - accuracy: 0.9269\n",
      "Epoch 10/20\n",
      "1875/1875 [==============================] - 2s 1ms/step - loss: 0.2793 - accuracy: 0.9276\n",
      "Epoch 11/20\n",
      "1875/1875 [==============================] - 2s 1ms/step - loss: 0.2699 - accuracy: 0.9304\n",
      "Epoch 12/20\n",
      "1875/1875 [==============================] - 2s 1ms/step - loss: 0.2701 - accuracy: 0.9316\n",
      "Epoch 13/20\n",
      "1875/1875 [==============================] - 2s 1ms/step - loss: 0.2594 - accuracy: 0.9342\n",
      "Epoch 14/20\n",
      "1875/1875 [==============================] - 2s 1ms/step - loss: 0.2550 - accuracy: 0.9357\n",
      "Epoch 15/20\n",
      "1875/1875 [==============================] - 2s 1ms/step - loss: 0.2510 - accuracy: 0.9371\n",
      "Epoch 16/20\n",
      "1875/1875 [==============================] - 2s 1ms/step - loss: 0.2549 - accuracy: 0.9360\n",
      "Epoch 17/20\n",
      "1875/1875 [==============================] - 2s 1ms/step - loss: 0.2399 - accuracy: 0.9386\n",
      "Epoch 18/20\n",
      "1875/1875 [==============================] - 2s 1ms/step - loss: 0.2369 - accuracy: 0.9392\n",
      "Epoch 19/20\n",
      "1875/1875 [==============================] - 2s 1ms/step - loss: 0.2370 - accuracy: 0.9411\n",
      "Epoch 20/20\n",
      "1875/1875 [==============================] - 2s 1ms/step - loss: 0.2360 - accuracy: 0.9403\n"
     ]
    },
    {
     "data": {
      "text/plain": [
       "<keras.src.callbacks.History at 0x7f1bd06b0970>"
      ]
     },
     "execution_count": 22,
     "metadata": {},
     "output_type": "execute_result"
    }
   ],
   "source": [
    "# Define input layer\n",
    "inputs = tf.keras.Input(shape=(28, 28))\n",
    "\n",
    "# Flatten layer\n",
    "x = tf.keras.layers.Flatten()(inputs)\n",
    "\n",
    "# Dense layer\n",
    "x = tf.keras.layers.Dense(128, activation='relu')(x)\n",
    "\n",
    "# Dropout layer\n",
    "x = tf.keras.layers.Dropout(0.2)(x)\n",
    "\n",
    "x = tf.keras.layers.Dense(256, activation='relu')(x)\n",
    "x = tf.keras.layers.Dropout(0.2)(x)\n",
    "\n",
    "\n",
    "# Output layer\n",
    "outputs = tf.keras.layers.Dense(10, activation='softmax')(x)\n",
    "\n",
    "# Create model\n",
    "model = tf.keras.Model(inputs=inputs, outputs=outputs)\n",
    "\n",
    "# Compile model\n",
    "model.compile(optimizer='adam',\n",
    "              loss='sparse_categorical_crossentropy',\n",
    "              metrics=['accuracy'])\n",
    "\n",
    "# Print model summary\n",
    "model.summary()\n",
    "\n",
    "model.fit(x_train,y_train,epochs=20)"
   ]
  },
  {
   "cell_type": "code",
   "execution_count": 23,
   "metadata": {},
   "outputs": [
    {
     "name": "stdout",
     "output_type": "stream",
     "text": [
      "313/313 [==============================] - 0s 759us/step - loss: 0.2192 - accuracy: 0.9525\n"
     ]
    },
    {
     "data": {
      "text/plain": [
       "[0.219194233417511, 0.9524999856948853]"
      ]
     },
     "execution_count": 23,
     "metadata": {},
     "output_type": "execute_result"
    }
   ],
   "source": [
    "model.evaluate(x_test,y_test)"
   ]
  },
  {
   "cell_type": "markdown",
   "metadata": {},
   "source": [
    "<h3>4. Inferencing Model </h3>"
   ]
  },
  {
   "cell_type": "code",
   "execution_count": 24,
   "metadata": {},
   "outputs": [
    {
     "data": {
      "image/jpeg": "[encoded data removed]",
      "image/png": "[encoded data removed]",
      "text/plain": [
       "<PIL.Image.Image image mode=L size=28x28>"
      ]
     },
     "metadata": {},
     "output_type": "display_data"
    },
    {
     "name": "stdout",
     "output_type": "stream",
     "text": [
      "==================================================\n",
      "1/1 [==============================] - 0s 43ms/step\n",
      "Predictions Batch: [[2.0063424e-35 1.1298566e-20 9.4175449e-12 3.4544480e-14 4.9478144e-22\n",
      "  7.7536134e-26 0.0000000e+00 1.0000000e+00 4.7061689e-30 1.6416816e-13]]\n",
      "Class: 7\n",
      "--------------------------------------------------\n",
      "1/1 [==============================] - 0s 10ms/step\n",
      "Predictions Reshape: [[2.0063424e-35 1.1298566e-20 9.4175449e-12 3.4544480e-14 4.9478144e-22\n",
      "  7.7536134e-26 0.0000000e+00 1.0000000e+00 4.7061689e-30 1.6416816e-13]]\n",
      "Class: 7\n"
     ]
    }
   ],
   "source": [
    "import numpy as np \n",
    "\n",
    "display(Image.fromarray(x_test[0]))\n",
    "print('=='*25)\n",
    "#During predictions tf expects it to have batch parameter hence we do these 2 methods to basically predict it \n",
    "predictions_with_expand_dims=model.predict(np.expand_dims(x_test[0], axis=0))\n",
    "print(f'Predictions Batch: {predictions_with_expand_dims}')\n",
    "print(f'Class: {np.argmax(predictions_with_expand_dims)}')\n",
    "\n",
    "print('--'*25)\n",
    "\n",
    "predictions_with_reshape=model.predict(x_test[0].reshape(1,28,28))\n",
    "print(f'Predictions Reshape: {predictions_with_reshape}')\n",
    "print(f'Class: {np.argmax(predictions_with_reshape)}')\n"
   ]
  }
 ],
 "metadata": {
  "kernelspec": {
   "display_name": "tf_env",
   "language": "python",
   "name": "python3"
  },
  "language_info": {
   "codemirror_mode": {
    "name": "ipython",
    "version": 3
   },
   "file_extension": ".py",
   "mimetype": "text/x-python",
   "name": "python",
   "nbconvert_exporter": "python",
   "pygments_lexer": "ipython3",
   "version": "3.10.12"
  }
 },
 "nbformat": 4,
 "nbformat_minor": 2
}
